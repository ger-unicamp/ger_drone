{
 "metadata": {
  "language_info": {
   "codemirror_mode": {
    "name": "ipython",
    "version": 3
   },
   "file_extension": ".py",
   "mimetype": "text/x-python",
   "name": "python",
   "nbconvert_exporter": "python",
   "pygments_lexer": "ipython3",
   "version": "2.7.17-final"
  },
  "orig_nbformat": 2,
  "kernelspec": {
   "name": "Python 2.7.17 64-bit",
   "display_name": "Python 2.7.17 64-bit",
   "metadata": {
    "interpreter": {
     "hash": "767d51c1340bd893661ea55ea3124f6de3c7a262a8b4abca0554b478b1e2ff90"
    }
   }
  }
 },
 "nbformat": 4,
 "nbformat_minor": 2,
 "cells": [
  {
   "cell_type": "code",
   "execution_count": 20,
   "metadata": {},
   "outputs": [],
   "source": [
    "import cv2 as cv\n",
    "from matplotlib import pyplot as plt\n",
    "import numpy as np"
   ]
  },
  {
   "cell_type": "code",
   "execution_count": 53,
   "metadata": {},
   "outputs": [],
   "source": [
    "base = cv.imread(\"base.png\", cv.IMREAD_GRAYSCALE)\n",
    "\n",
    "img = cv.imread(\"base_photo.png\", cv.IMREAD_GRAYSCALE)\n",
    "\n",
    "escala = 0.007843137\n",
    "centro_base = (140,135)\n",
    "\n",
    "K = [[1,0,0],[0,1,0],[0,0,1]]"
   ]
  },
  {
   "cell_type": "code",
   "execution_count": 12,
   "metadata": {},
   "outputs": [],
   "source": [
    "def inverteTransformacao(R, t):\n",
    "    RInverso = np.transpose(R)\n",
    "\n",
    "    tInverso  = - np.matmul(RInverso, t)\n",
    "\n",
    "    return RInverso, tInverso"
   ]
  },
  {
   "cell_type": "code",
   "execution_count": 54,
   "metadata": {},
   "outputs": [],
   "source": [
    "orb = cv.ORB_create()\n",
    "\n",
    "kp1, des1 = orb.detectAndCompute(base, None)\n",
    "kp2, des2 = orb.detectAndCompute(img, None)\n",
    "\n",
    "FLANN_INDEX_LSH = 6\n",
    "index_params = dict(algorithm = FLANN_INDEX_LSH, table_number = 6, key_size = 12, multi_probe_level = 1)\n",
    "search_params = dict(checks = 100)\n",
    "\n",
    "flann = cv.FlannBasedMatcher(index_params, search_params)\n",
    "\n",
    "matches = flann.knnMatch(des1,des2,k=2)\n",
    "\n",
    "good = []\n",
    "for i,m_n in enumerate(matches):\n",
    "    if len(m_n) != 2:\n",
    "        continue\n",
    "    (m,n) = m_n\n",
    "    if m.distance < 0.7*n.distance:\n",
    "        good.append(m)\n",
    "\n",
    "#Calcula os pontos da base na imagem\n",
    "pontoImagem = []\n",
    "\n",
    "pontoReal = []\n",
    "\n",
    "#train = kp2\n",
    "#query = kp1\n",
    "\n",
    "for match in good:\n",
    "    point_base = kp1[match.queryIdx].pt\n",
    "    point_photo = kp2[match.trainIdx].pt\n",
    "\n",
    "    #Desloca o ponto para o centro de coordenadas do centro da base\n",
    "    point_baseMetro = [point_base[0]-centro_base[0],point_base[1]-centro_base[1], 0]\n",
    "\n",
    "    #Converte para metro\n",
    "    point_baseMetro[0] = point_baseMetro[0] * escala \n",
    "    point_baseMetro[1] = point_baseMetro[1] * escala \n",
    "\n",
    "    #Adiciona as listas\n",
    "    pontoImagem.append([point_photo[0],point_photo[1]])\n",
    "    pontoReal.append(point_baseMetro)\n",
    "\n",
    "pontoImagem = np.array(pontoImagem, dtype=np.float32)\n",
    "pontoReal = np.array(pontoReal,dtype=np.float32)\n",
    "K = np.array(K,dtype=np.float32)\n",
    "\n",
    "a, RObj, tObj = cv.solvePnP(pontoReal,pontoImagem , K, np.zeros((5,1)))\n",
    "\n",
    "RObj, _ = cv.Rodrigues(RObj)\n",
    "\n",
    "RCamera, tCamera = inverteTransformacao(RObj, tObj)"
   ]
  },
  {
   "cell_type": "code",
   "execution_count": 55,
   "metadata": {},
   "outputs": [
    {
     "output_type": "execute_result",
     "data": {
      "text/plain": "array([[  9.10245563e-02],\n       [ -2.35009786e-02],\n       [ -1.36494586e-05]])"
     },
     "metadata": {},
     "execution_count": 55
    }
   ],
   "source": [
    "tCamera"
   ]
  },
  {
   "cell_type": "code",
   "execution_count": 49,
   "metadata": {},
   "outputs": [
    {
     "output_type": "execute_result",
     "data": {
      "text/plain": "(array([[-0.23682134, -0.9715473 ,  0.00339186],\n        [-0.97155104,  0.23682676,  0.00129102],\n        [-0.00205757, -0.00298963, -0.99999341]]),\n array([[ -4.85602877e-01,   1.20066559e-01,   4.86227256e-01,\n           1.19398679e-01,   4.87742971e-01,   3.80568933e-01,\n          -4.86391693e-01,  -3.81235843e-01,   2.14055131e-03],\n        [ -3.84175984e-01,   9.14868634e-02,  -6.18320665e-01,\n           9.23371016e-02,   3.81451560e-01,  -4.86229127e-01,\n           6.17653755e-01,   4.86389821e-01,  -2.72500703e-03],\n        [  2.63806881e-04,  -1.43727072e-03,  -3.93265318e-01,\n           7.70361154e-04,   4.26372227e-04,   5.01517537e-01,\n          -3.94115556e-01,   5.00849656e-01,  -6.86437079e-04]]))"
     },
     "metadata": {},
     "execution_count": 49
    }
   ],
   "source": [
    "RObj"
   ]
  },
  {
   "cell_type": "code",
   "execution_count": null,
   "metadata": {},
   "outputs": [],
   "source": []
  }
 ]
}