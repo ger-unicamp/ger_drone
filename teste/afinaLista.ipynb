{
 "metadata": {
  "language_info": {
   "codemirror_mode": {
    "name": "ipython",
    "version": 3
   },
   "file_extension": ".py",
   "mimetype": "text/x-python",
   "name": "python",
   "nbconvert_exporter": "python",
   "pygments_lexer": "ipython3",
   "version": "2.7.17-final"
  },
  "orig_nbformat": 2,
  "kernelspec": {
   "name": "python2",
   "display_name": "Python 2"
  }
 },
 "nbformat": 4,
 "nbformat_minor": 2,
 "cells": [
  {
   "cell_type": "code",
   "execution_count": 1,
   "metadata": {},
   "outputs": [],
   "source": [
    "import numpy as np"
   ]
  },
  {
   "cell_type": "code",
   "execution_count": 29,
   "metadata": {},
   "outputs": [
    {
     "output_type": "execute_result",
     "data": {
      "text/plain": [
       "0.0516231185517559"
      ]
     },
     "metadata": {},
     "execution_count": 29
    }
   ],
   "source": [
    "objetos = [[0.19590722983706904, -5.91272761142397, 3], [0.162340118724688, -5.924029195058583, 3], [6.053952333773795, -0.021391707419007696, 3], [0.15930080240924704, -5.929532560075113, 3], [6.048322309384819, -0.028604387018219737, 3]]\n",
    "\n",
    "\n",
    "objetos = [[0.2722129967760312, -5.950209282242282, 3], [5.943102235494544, 0.1954122858113018, 3], [3.127883015791723, 0.030385211173590675, 3], [4.30382236966552, -0.6947736986653466, 3], [0.22581805523184206, -5.972846768147742, 3]]\n",
    "\n",
    "pose1 = np.array(objetos[0])\n",
    "pose2 = np.array(objetos[4])\n",
    "\n",
    "np.linalg.norm(pose1-pose2)"
   ]
  },
  {
   "cell_type": "code",
   "execution_count": 30,
   "metadata": {},
   "outputs": [],
   "source": [
    "novaLista = []\n",
    "\n",
    "for i in range(5):\n",
    "    nInlierMelhor = 0\n",
    "    melhor = 0\n",
    "    poseMediaMelhor = [0,0]\n",
    "\n",
    "    if(len(objetos) == 0):\n",
    "        break\n",
    "\n",
    "    for j in range(10):\n",
    "        index = 0\n",
    "        while True:\n",
    "            index = int(np.random.rand(1)[0]*len(objetos))\n",
    "            if(True):\n",
    "                break\n",
    "        \n",
    "\n",
    "        pose = np.array(objetos[index])\n",
    "        nInlier =0\n",
    "        poseMedia = [0,0]\n",
    "        for k in range(len(objetos)):\n",
    "            poseTeste = np.array(objetos[k])\n",
    "            if(np.linalg.norm(pose-poseTeste) < 1.0):\n",
    "                nInlier += 1\n",
    "                poseMedia[0] += poseTeste[0]\n",
    "                poseMedia[1] += poseTeste[1]\n",
    "\n",
    "        if(nInlier > nInlierMelhor):\n",
    "            nInlierMelhor = nInlier\n",
    "            melhor = index\n",
    "\n",
    "            poseMediaMelhor[0] = poseMedia[0] / nInlier\n",
    "            poseMediaMelhor[1] = poseMedia[1] / nInlier\n",
    "\n",
    "    novaLista.append(objetos[melhor])\n",
    "    pose = np.array(objetos[melhor])\n",
    "    \n",
    "    k = 0\n",
    "\n",
    "    while(k < len(objetos)):\n",
    "        poseTeste = np.array(objetos[k])\n",
    "        if(np.linalg.norm(pose- poseTeste) < 1.0):\n",
    "            del objetos[k]\n",
    "        else:\n",
    "            k += 1\n"
   ]
  },
  {
   "cell_type": "code",
   "execution_count": 27,
   "metadata": {},
   "outputs": [
    {
     "output_type": "execute_result",
     "data": {
      "text/plain": [
       "[]"
      ]
     },
     "metadata": {},
     "execution_count": 27
    }
   ],
   "source": [
    "objetos"
   ]
  },
  {
   "cell_type": "code",
   "execution_count": 31,
   "metadata": {},
   "outputs": [
    {
     "output_type": "execute_result",
     "data": {
      "text/plain": [
       "[[0.22581805523184206, -5.972846768147742, 3],\n",
       " [3.127883015791723, 0.030385211173590675, 3],\n",
       " [5.943102235494544, 0.1954122858113018, 3],\n",
       " [4.30382236966552, -0.6947736986653466, 3]]"
      ]
     },
     "metadata": {},
     "execution_count": 31
    }
   ],
   "source": [
    "novaLista"
   ]
  },
  {
   "cell_type": "code",
   "execution_count": null,
   "metadata": {},
   "outputs": [],
   "source": []
  }
 ]
}